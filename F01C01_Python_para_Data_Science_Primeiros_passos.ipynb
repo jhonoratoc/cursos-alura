{
  "nbformat": 4,
  "nbformat_minor": 0,
  "metadata": {
    "colab": {
      "name": "F01C01 Python para Data Science: Primeiros passos",
      "provenance": [],
      "collapsed_sections": [
        "WsXbNVLR4_ol",
        "vRmaQfGT5AHd"
      ],
      "authorship_tag": "ABX9TyOCB7kIItlxnvESS9wYQV1/",
      "include_colab_link": true
    },
    "kernelspec": {
      "name": "python3",
      "display_name": "Python 3"
    }
  },
  "cells": [
    {
      "cell_type": "markdown",
      "metadata": {
        "id": "view-in-github",
        "colab_type": "text"
      },
      "source": [
        "<a href=\"https://colab.research.google.com/github/jhonoratoc/cursos-alura/blob/main/F01C01_Python_para_Data_Science_Primeiros_passos.ipynb\" target=\"_parent\"><img src=\"https://colab.research.google.com/assets/colab-badge.svg\" alt=\"Open In Colab\"/></a>"
      ]
    },
    {
      "cell_type": "markdown",
      "metadata": {
        "id": "mo8w2MMQwtsh"
      },
      "source": [
        "# 01. Função e linguagem de alto nível\n",
        "\n"
      ]
    },
    {
      "cell_type": "code",
      "metadata": {
        "colab": {
          "base_uri": "https://localhost:8080/"
        },
        "id": "JbeIb0aZwL-I",
        "outputId": "9bafb981-0ba2-4f58-b054-0c73c38cb177"
      },
      "source": [
        "1+1"
      ],
      "execution_count": null,
      "outputs": [
        {
          "output_type": "execute_result",
          "data": {
            "text/plain": [
              "2"
            ]
          },
          "metadata": {
            "tags": []
          },
          "execution_count": 1
        }
      ]
    },
    {
      "cell_type": "code",
      "metadata": {
        "colab": {
          "base_uri": "https://localhost:8080/",
          "height": 35
        },
        "id": "fcy_ir_Bw-kv",
        "outputId": "27cb879c-0e53-4728-bdab-6f0d87492d68"
      },
      "source": [
        "'João'"
      ],
      "execution_count": null,
      "outputs": [
        {
          "output_type": "execute_result",
          "data": {
            "application/vnd.google.colaboratory.intrinsic+json": {
              "type": "string"
            },
            "text/plain": [
              "'João'"
            ]
          },
          "metadata": {
            "tags": []
          },
          "execution_count": 2
        }
      ]
    },
    {
      "cell_type": "code",
      "metadata": {
        "colab": {
          "base_uri": "https://localhost:8080/",
          "height": 35
        },
        "id": "xWAGKrAbxAh-",
        "outputId": "19cd5445-9212-4c05-b1bb-2598c573a1df"
      },
      "source": [
        "nome = 'João'\n",
        "nome"
      ],
      "execution_count": null,
      "outputs": [
        {
          "output_type": "execute_result",
          "data": {
            "application/vnd.google.colaboratory.intrinsic+json": {
              "type": "string"
            },
            "text/plain": [
              "'João'"
            ]
          },
          "metadata": {
            "tags": []
          },
          "execution_count": 3
        }
      ]
    },
    {
      "cell_type": "code",
      "metadata": {
        "colab": {
          "base_uri": "https://localhost:8080/"
        },
        "id": "WXlYp2_vxrRb",
        "outputId": "fb85cc2c-f08a-463a-fb6a-57c42c968417"
      },
      "source": [
        "idade = 24\n",
        "idade"
      ],
      "execution_count": null,
      "outputs": [
        {
          "output_type": "execute_result",
          "data": {
            "text/plain": [
              "24"
            ]
          },
          "metadata": {
            "tags": []
          },
          "execution_count": 4
        }
      ]
    },
    {
      "cell_type": "code",
      "metadata": {
        "colab": {
          "base_uri": "https://localhost:8080/"
        },
        "id": "YTB912a7xWyz",
        "outputId": "001652a0-bc5e-4088-8a3c-03e2b0db3375"
      },
      "source": [
        "# usando a função print\n",
        "\n",
        "texto = print(f'O nome é {nome} e sua idade é {idade} anos')\n",
        "texto \n",
        "\n",
        "# use f-string para inserir as variáveis no texto\n",
        "# com f-string fica mais bonito"
      ],
      "execution_count": null,
      "outputs": [
        {
          "output_type": "stream",
          "text": [
            "O nome é João e sua idade é 24 anos\n"
          ],
          "name": "stdout"
        }
      ]
    },
    {
      "cell_type": "markdown",
      "metadata": {
        "id": "ESMpzq8iyNym"
      },
      "source": [
        "Criando minha primeira função"
      ]
    },
    {
      "cell_type": "code",
      "metadata": {
        "colab": {
          "base_uri": "https://localhost:8080/"
        },
        "id": "K6m8JGWkyDRt",
        "outputId": "7e7ef3cb-9a8a-4825-d686-f7c477d802f1"
      },
      "source": [
        "# como criar nossas próprias funções?\n",
        "# usaremos o comando def\n",
        "\n",
        "# faremos a função saudacao() e definiremos os parâmetros a serem utilizados\n",
        "\n",
        "def saudacao():\n",
        "  nome = input('Qual é o seu nome? ')       ### input -> permite que você insira uma informação na função e armazene em uma variável\n",
        "  print(f'Olá, {nome}!')\n",
        "\n",
        "saudacao()"
      ],
      "execution_count": null,
      "outputs": [
        {
          "output_type": "stream",
          "text": [
            "Qual é o seu nome? João\n",
            "Olá, João!\n"
          ],
          "name": "stdout"
        }
      ]
    },
    {
      "cell_type": "markdown",
      "metadata": {
        "id": "aqwDIgQj44y8"
      },
      "source": [
        "# 02. Parâmetros, condicionais e conversão de tipos"
      ]
    },
    {
      "cell_type": "markdown",
      "metadata": {
        "id": "Ebk_94U3542M"
      },
      "source": [
        "Criando uma função com parâmetros"
      ]
    },
    {
      "cell_type": "code",
      "metadata": {
        "colab": {
          "base_uri": "https://localhost:8080/"
        },
        "id": "xzd4U0El5Tr_",
        "outputId": "aef7713c-9cd1-43e8-9bc7-860476ccdb64"
      },
      "source": [
        "# ao criar uma função com def, podemos usar parâmetros para inserir os dados de entrada\n",
        "# no caso abaixo, usaremos a função saudacao_com_parametros(nome_pessoa), sendo o nome um parâmetro a ser colocado entre parênteses no comando\n",
        "\n",
        "def saudacao_com_parametros(nome_pessoa):\n",
        "  print(f'Olá, {nome_pessoa}')\n",
        "\n",
        "saudacao_com_parametros('João')"
      ],
      "execution_count": null,
      "outputs": [
        {
          "output_type": "stream",
          "text": [
            "Olá, João\n"
          ],
          "name": "stdout"
        }
      ]
    },
    {
      "cell_type": "markdown",
      "metadata": {
        "id": "LzjrE0CB7OTi"
      },
      "source": [
        "Condicionais"
      ]
    },
    {
      "cell_type": "code",
      "metadata": {
        "colab": {
          "base_uri": "https://localhost:8080/"
        },
        "id": "HKO5Z-VZ5TpD",
        "outputId": "71f08047-7891-43a7-a8b0-202bed3e6ad5"
      },
      "source": [
        "# faremos uma função para identificar se uma pessoa pode tirar CNH com base na idade\n",
        "# vamos usar if/else para verificar\n",
        "\n",
        "# lembrando que if e else demandam o uso de dois pontos\n",
        "'if idade>=18: ------------- else: -------------'\n",
        "\n",
        "\n",
        "def pode_dirigir(idade):\n",
        "  if idade>=18:\n",
        "    print('Possui permissão para dirigir')\n",
        "  else:\n",
        "    print('Não possui permissão para dirigir')\n",
        "\n",
        "pode_dirigir(18)"
      ],
      "execution_count": null,
      "outputs": [
        {
          "output_type": "stream",
          "text": [
            "Possui permissão para dirigir\n"
          ],
          "name": "stdout"
        }
      ]
    },
    {
      "cell_type": "code",
      "metadata": {
        "colab": {
          "base_uri": "https://localhost:8080/"
        },
        "id": "dYb-P8tc5TmP",
        "outputId": "554ea295-0fd4-4908-bc4a-0918882b82f6"
      },
      "source": [
        "# e se eu fizesse essa função sem parâmetros?\n",
        "\n",
        "# no caso abaixo, é necessário converter o input em valor numérico (int ou float), visto que o dado de entrada é reconhecido como texto\n",
        "# para converter, usaremos int(input('Qual é a sua idade? ')) para transformar em número inteiro\n",
        "\n",
        "def pode_dirigir_sem_parametro():\n",
        "  idade = int(input('Qual é a sua idade? '))\n",
        "  if idade>=18:\n",
        "    print('Possui permissão para dirigir')\n",
        "  else:\n",
        "    print('Não possui permissão para dirigir')\n",
        "\n",
        "pode_dirigir_sem_parametro()"
      ],
      "execution_count": null,
      "outputs": [
        {
          "output_type": "stream",
          "text": [
            "Qual é a sua idade? 24\n",
            "Possui permissão para dirigir\n"
          ],
          "name": "stdout"
        }
      ]
    },
    {
      "cell_type": "markdown",
      "metadata": {
        "id": "WsXbNVLR4_ol"
      },
      "source": [
        "# 03. Lista, repetições e tipo booleano"
      ]
    },
    {
      "cell_type": "markdown",
      "metadata": {
        "id": "2CbMBTqxDD91"
      },
      "source": [
        "#### Listas"
      ]
    },
    {
      "cell_type": "code",
      "metadata": {
        "colab": {
          "base_uri": "https://localhost:8080/"
        },
        "id": "pe7COPmrBvmu",
        "outputId": "faa14736-2626-4ca2-cbd4-55531381acb8"
      },
      "source": [
        "idade"
      ],
      "execution_count": null,
      "outputs": [
        {
          "output_type": "execute_result",
          "data": {
            "text/plain": [
              "24"
            ]
          },
          "metadata": {
            "tags": []
          },
          "execution_count": 10
        }
      ]
    },
    {
      "cell_type": "code",
      "metadata": {
        "colab": {
          "base_uri": "https://localhost:8080/"
        },
        "id": "w3lpK9kBBvkY",
        "outputId": "e09cdd91-5fdb-413a-c4e9-5e4cd69034e5"
      },
      "source": [
        "type(idade)\n",
        "\n",
        "# idade é um número inteiro (int)"
      ],
      "execution_count": null,
      "outputs": [
        {
          "output_type": "execute_result",
          "data": {
            "text/plain": [
              "int"
            ]
          },
          "metadata": {
            "tags": []
          },
          "execution_count": 11
        }
      ]
    },
    {
      "cell_type": "code",
      "metadata": {
        "colab": {
          "base_uri": "https://localhost:8080/",
          "height": 35
        },
        "id": "760WalzKBviC",
        "outputId": "2966f302-2960-40ca-f5ca-794add9ae7d8"
      },
      "source": [
        "nome"
      ],
      "execution_count": null,
      "outputs": [
        {
          "output_type": "execute_result",
          "data": {
            "application/vnd.google.colaboratory.intrinsic+json": {
              "type": "string"
            },
            "text/plain": [
              "'João'"
            ]
          },
          "metadata": {
            "tags": []
          },
          "execution_count": 12
        }
      ]
    },
    {
      "cell_type": "code",
      "metadata": {
        "colab": {
          "base_uri": "https://localhost:8080/"
        },
        "id": "yPSUHi2ADR_t",
        "outputId": "1cc3d0f6-91de-4d3c-b3d5-a4cdb64526fa"
      },
      "source": [
        "type(nome)\n",
        "\n",
        "# nome é uma string"
      ],
      "execution_count": null,
      "outputs": [
        {
          "output_type": "execute_result",
          "data": {
            "text/plain": [
              "str"
            ]
          },
          "metadata": {
            "tags": []
          },
          "execution_count": 13
        }
      ]
    },
    {
      "cell_type": "code",
      "metadata": {
        "colab": {
          "base_uri": "https://localhost:8080/"
        },
        "id": "4sbDH5M_DaGO",
        "outputId": "0df54c06-9546-4aa9-a8a6-f442be2d395f"
      },
      "source": [
        "# façamos uma lista de idades\n",
        "# vamos separar os elementos por vírgula, contendo-os em um par de colchetes\n",
        "\n",
        "idades = [18, 22, 15, 50]\n",
        "type(idades)\n",
        "\n",
        "# idades é uma lista"
      ],
      "execution_count": null,
      "outputs": [
        {
          "output_type": "execute_result",
          "data": {
            "text/plain": [
              "list"
            ]
          },
          "metadata": {
            "tags": []
          },
          "execution_count": 14
        }
      ]
    },
    {
      "cell_type": "code",
      "metadata": {
        "colab": {
          "base_uri": "https://localhost:8080/"
        },
        "id": "Da0Y-RvKDv1M",
        "outputId": "92c19803-af16-44e7-8811-bdfdeffef16f"
      },
      "source": [
        "idades[2]\n",
        "\n",
        "# ao usarmos idades[2], recuperamos o 3º elemento da lista, visto que o primeiro elemento é o idades[0]"
      ],
      "execution_count": null,
      "outputs": [
        {
          "output_type": "execute_result",
          "data": {
            "text/plain": [
              "15"
            ]
          },
          "metadata": {
            "tags": []
          },
          "execution_count": 15
        }
      ]
    },
    {
      "cell_type": "code",
      "metadata": {
        "colab": {
          "base_uri": "https://localhost:8080/"
        },
        "id": "XA6d1a_LEZy_",
        "outputId": "d45223d1-92b0-4ae8-a2d7-16f6a7cb92c6"
      },
      "source": [
        "idades[-1]      # para recuperar a última idade"
      ],
      "execution_count": null,
      "outputs": [
        {
          "output_type": "execute_result",
          "data": {
            "text/plain": [
              "50"
            ]
          },
          "metadata": {
            "tags": []
          },
          "execution_count": 16
        }
      ]
    },
    {
      "cell_type": "code",
      "metadata": {
        "colab": {
          "base_uri": "https://localhost:8080/"
        },
        "id": "UgwhB1vxEf0E",
        "outputId": "cafc432e-ba77-4f27-f597-5dfb60b3cea3"
      },
      "source": [
        "idades[0:2]    # do zero pra frente, parando antes de chegar no 2"
      ],
      "execution_count": null,
      "outputs": [
        {
          "output_type": "execute_result",
          "data": {
            "text/plain": [
              "[18, 22]"
            ]
          },
          "metadata": {
            "tags": []
          },
          "execution_count": 17
        }
      ]
    },
    {
      "cell_type": "markdown",
      "metadata": {
        "id": "jnPLNG7xE9UV"
      },
      "source": [
        "#### Laços e loops"
      ]
    },
    {
      "cell_type": "code",
      "metadata": {
        "colab": {
          "base_uri": "https://localhost:8080/"
        },
        "id": "i8tnw_KBFOEO",
        "outputId": "b236c408-5789-4c09-c85a-38582f9fbc4b"
      },
      "source": [
        "def pode_dirigir(idades):\n",
        "  for idade in idades:\n",
        "    if idade>=18:\n",
        "      print(f'Por ter {idade} anos de idade, possui permissão para dirigir')\n",
        "    else:\n",
        "     print(f'Por ter {idade} anos de idade, não possui permissão para dirigir')\n",
        "\n",
        "pode_dirigir(idades)"
      ],
      "execution_count": null,
      "outputs": [
        {
          "output_type": "stream",
          "text": [
            "Por ter 18 anos de idade, possui permissão para dirigir\n",
            "Por ter 22 anos de idade, possui permissão para dirigir\n",
            "Por ter 15 anos de idade, não possui permissão para dirigir\n",
            "Por ter 50 anos de idade, possui permissão para dirigir\n"
          ],
          "name": "stdout"
        }
      ]
    },
    {
      "cell_type": "markdown",
      "metadata": {
        "id": "Nv_o-NGyI-1L"
      },
      "source": [
        "#### Booleano"
      ]
    },
    {
      "cell_type": "code",
      "metadata": {
        "colab": {
          "base_uri": "https://localhost:8080/"
        },
        "id": "CiC63ZqEFjpy",
        "outputId": "5a080787-21ce-4a93-a694-9da5ab0e2afd"
      },
      "source": [
        "# verdadeiro ou falso\n",
        "\n",
        "idade = 15\n",
        "idade >= 18"
      ],
      "execution_count": null,
      "outputs": [
        {
          "output_type": "execute_result",
          "data": {
            "text/plain": [
              "False"
            ]
          },
          "metadata": {
            "tags": []
          },
          "execution_count": 28
        }
      ]
    },
    {
      "cell_type": "code",
      "metadata": {
        "colab": {
          "base_uri": "https://localhost:8080/"
        },
        "id": "Idqbbc5WFjsH",
        "outputId": "c990187d-16c3-4ae0-f338-a67c72fb3710"
      },
      "source": [
        "# vamos verificar se a idade permite dirigir; caso permita, iremos armazenar os valores booleanos (True ou False) numa lista\n",
        "\n",
        "permissoes = []   ### lista vazia para receber os valores\n",
        "idades = [20,14,40]    ### lista com todas as idades\n",
        "\n",
        "# façamos uma função com def\n",
        "\n",
        "def pode_dirigir(idades, permissoes):\n",
        "  for idade in idades:\n",
        "    if idade>=18:\n",
        "      permissoes.append(True)\n",
        "    else:\n",
        "      permissoes.append(False)\n",
        "  print(permissoes)\n",
        "\n",
        "\n",
        "pode_dirigir(idades, permissoes)\n",
        "\n",
        "# agora temos uma lista com valores booleanos que identificam se a idade permite dirigir"
      ],
      "execution_count": null,
      "outputs": [
        {
          "output_type": "stream",
          "text": [
            "[True, False, True]\n"
          ],
          "name": "stdout"
        }
      ]
    },
    {
      "cell_type": "markdown",
      "metadata": {
        "id": "vRmaQfGT5AHd"
      },
      "source": [
        "# 04. O sistema de imports"
      ]
    },
    {
      "cell_type": "markdown",
      "metadata": {
        "id": "RQLx6UKoaO48"
      },
      "source": [
        "#### Tipos de uma lista"
      ]
    },
    {
      "cell_type": "code",
      "metadata": {
        "id": "yRTlvW0bVavB",
        "colab": {
          "base_uri": "https://localhost:8080/"
        },
        "outputId": "ed3223eb-8ef1-45b8-b935-59488642055b"
      },
      "source": [
        "# vamos criar uma lista com elementos de tipos diferentes\n",
        "# faremos um for para imprimir os tipos de elementos da lista\n",
        "\n",
        "lista = ['João', 24, True, '28']\n",
        "\n",
        "for elemento in lista:\n",
        "  print(f'O elemento {elemento} é do tipo ', type(elemento))"
      ],
      "execution_count": null,
      "outputs": [
        {
          "output_type": "stream",
          "text": [
            "O elemento João é do tipo  <class 'str'>\n",
            "O elemento 24 é do tipo  <class 'int'>\n",
            "O elemento True é do tipo  <class 'bool'>\n",
            "O elemento 28 é do tipo  <class 'str'>\n"
          ],
          "name": "stdout"
        }
      ]
    },
    {
      "cell_type": "markdown",
      "metadata": {
        "id": "fHms8y8Ue4t8"
      },
      "source": [
        "#### Imports"
      ]
    },
    {
      "cell_type": "code",
      "metadata": {
        "id": "M-qRvPzNVbiR"
      },
      "source": [
        "# vamos criar uma lista para armazenar as notas de um aluno\n",
        "# as notas terão valores inteiros e aleatórios\n",
        "\n",
        "# para gerar números inteiros aleatoriamente, usaremos a função random.randrage\n",
        "\n",
        "from random import randrange, seed"
      ],
      "execution_count": null,
      "outputs": []
    },
    {
      "cell_type": "code",
      "metadata": {
        "colab": {
          "base_uri": "https://localhost:8080/"
        },
        "id": "_4oIAz3qe4e8",
        "outputId": "66f87481-c19d-4a8f-f1d9-c2718ff738ee"
      },
      "source": [
        "# valores de 0 a 10 (o 11 não está incluso)\n",
        "\n",
        "randrange(0,11)"
      ],
      "execution_count": null,
      "outputs": [
        {
          "output_type": "execute_result",
          "data": {
            "text/plain": [
              "7"
            ]
          },
          "metadata": {
            "tags": []
          },
          "execution_count": 34
        }
      ]
    },
    {
      "cell_type": "code",
      "metadata": {
        "id": "PFPcJCFyVbbY",
        "colab": {
          "base_uri": "https://localhost:8080/"
        },
        "outputId": "871de7ed-edc0-4ecf-d980-eb91f3afad02"
      },
      "source": [
        "notas_matematica = []\n",
        "\n",
        "# criaremos um for para repetir o append de notas na lista vazia\n",
        "# um for com 8 elementos -> for notas in range(8)\n",
        "\n",
        "for notas in range(8):\n",
        "  notas_matematica.append(randrange(0,11))\n",
        "\n",
        "notas_matematica"
      ],
      "execution_count": null,
      "outputs": [
        {
          "output_type": "execute_result",
          "data": {
            "text/plain": [
              "[5, 4, 9, 1, 10, 1, 9, 2]"
            ]
          },
          "metadata": {
            "tags": []
          },
          "execution_count": 24
        }
      ]
    },
    {
      "cell_type": "code",
      "metadata": {
        "id": "hbsEMOb9rLGQ"
      },
      "source": [
        "# os números gerados não são exatamente aleatórios\n",
        "# para mostrar isso, basta usar a função seed(), que estabelece um número inicial para a contagem supostamente aleatória\n",
        "# com um seed já escolhido, todas as sequências de números ditos aleatórios partirão de um mesmo valor, \"travando\" a aleatoriedade da função\n",
        "\n",
        "# seed(10) inicia a contagem aleatória pelo número 10"
      ],
      "execution_count": null,
      "outputs": []
    },
    {
      "cell_type": "markdown",
      "metadata": {
        "id": "emeduTSRqnhZ"
      },
      "source": [
        "# 05. Plotando com matplotlib"
      ]
    },
    {
      "cell_type": "code",
      "metadata": {
        "id": "rfIV47lpsvUM"
      },
      "source": [
        "# vamos gerar um gráfico com as notas dos alunos usando a biblioteca matplotlib\n",
        "\n",
        "import matplotlib.pyplot as plt\n"
      ],
      "execution_count": null,
      "outputs": []
    },
    {
      "cell_type": "code",
      "metadata": {
        "colab": {
          "base_uri": "https://localhost:8080/",
          "height": 404
        },
        "id": "Cd5hGnMl9eqz",
        "outputId": "4987319f-5655-447e-bb82-d1c1d4686e04"
      },
      "source": [
        "x = list(range(1,9))\n",
        "y = notas_matematica\n",
        "\n",
        "plt.figure(figsize=(9,6)) ## estabelecendo um espaço para o gráfico\n",
        "\n",
        "plt.plot(x,y, marker='o', c='red')\n",
        "\n",
        "# esse marker é pra botar a bolinha nos pontos do gráfico\n",
        "# plt.figure para determinar as dimensões do gráfico\n",
        "\n",
        "# gráfico gerado, mas tá meio feio\n",
        "# vamos configurar o gráfico\n",
        "\n",
        "plt.title('Notas de matemática')  ## nome do gráfico\n",
        "plt.xlabel('Provas')  ## nome do eixo X\n",
        "plt.ylabel('Notas')  ## nome do eixo Y\n",
        "plt.yticks(range(0, 11))  ## escolhendo como será apresentado o eixo Y\n",
        "plt.grid()  ## grade\n",
        "\n",
        "# plt.show()"
      ],
      "execution_count": null,
      "outputs": [
        {
          "output_type": "display_data",
          "data": {
            "image/png": "[encoded data removed]",
            "text/plain": [
              "<Figure size 648x432 with 1 Axes>"
            ]
          },
          "metadata": {
            "tags": [],
            "needs_background": "light"
          }
        }
      ]
    },
    {
      "cell_type": "code",
      "metadata": {
        "id": "5V-PL2VY9smP"
      },
      "source": [
        ""
      ],
      "execution_count": null,
      "outputs": []
    }
  ]
}